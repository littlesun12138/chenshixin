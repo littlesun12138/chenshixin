{
 "cells": [
  {
   "cell_type": "markdown",
   "metadata": {},
   "source": [
    "## `lab01`—The Python Intro - Jupyter, Spyder, and Command Line"
   ]
  },
  {
   "cell_type": "markdown",
   "metadata": {},
   "source": [
    "### NAME:\n",
    "\n",
    "### EMAIL:\n",
    "\n",
    "### Student ID:    "
   ]
  },
  {
   "cell_type": "markdown",
   "metadata": {},
   "source": [
    "**Objectives**\n",
    "\n",
    "- A)   Access the online Jupyter notebook system for labs.\n",
    "- B)   Have hands-on experience with Python Spyder and Command line.\n",
    "- C)   CS101 Lab session logistics"
   ]
  },
  {
   "cell_type": "markdown",
   "metadata": {},
   "source": [
    "### A)   How to use the online Python notebook server."
   ]
  },
  {
   "cell_type": "markdown",
   "metadata": {
    "deletable": false,
    "nbgrader": {
     "grade": false,
     "grade_id": "l_decay",
     "locked": false,
     "solution": true
    }
   },
   "source": [
    "This document will use a few standard conventions that you should be aware of:\n",
    "\n",
    "    # This is a nonexecutable code block i.e., nothing will happen if you try to run it.\n",
    "    # Things which are written here represent Python code (or pseudocode)\n",
    "    # but are not executable---\n",
    "    # see the executable code cells following for code that you can run in place.\n",
    "\n",
    "<div class=\"alert alert-warning\">\n",
    "This is a *warning* block.  You should always carefully read this information since it will materially impact your ability to complete the lab exercises successfully, or your ability to use Python to solve problems.\n",
    "</div>\n",
    "\n",
    "<div class=\"alert alert-info\">\n",
    "This is an *info* block.  You can safely ignore this information for completing your lab exercises, but may find it interesting and useful for your future scholarship and career.\n",
    "</div>"
   ]
  },
  {
   "cell_type": "markdown",
   "metadata": {},
   "source": [
    "The following grey cell, in contrast, is an executable *code cell*.  (As an aside, you do not need to understand the details of the Python code in this lab.  We'll cover all you need in the next few weeks.)\n",
    "\n",
    "Code cells require you to enter Python code (or just read what's already there), and then to execute the cell when you are ready to proceed with the lab.  To do so, select inside of the cell and press Ctrl+Enter."
   ]
  },
  {
   "cell_type": "code",
   "execution_count": null,
   "metadata": {
    "deletable": false,
    "nbgrader": {
     "grade": false,
     "grade_id": "l_decay",
     "locked": false,
     "solution": true
    }
   },
   "outputs": [],
   "source": [
    "##########\n",
    "### Q1 ###\n",
    "##########\n",
    "\n",
    "#Execute here: (operators)\n",
    "1 + 2 * 3"
   ]
  },
  {
   "cell_type": "markdown",
   "metadata": {},
   "source": [
    "Note that two things happened.  \n",
    "1) A number appears in the `In []` — this number indicates the number of times you have executed a code in the notebook. Executing the same code cell will increase this number. The absolute magnitude of this number almost never matters, but the *order* is important. This *order* tells you the execution sequence of the code cells.  You can execute code cells out of order, so you have to be sure that if you change one thing later, the other cells are updated.\n",
    "\n",
    "2) The other thing that happened is that the cell returned an output (i.e., `Out[x]: y`).  This may not always happen, but in the case of single-line expressions like mathematical formulae it often will.  If you need explicit output, you can use a `print` function:"
   ]
  },
  {
   "cell_type": "code",
   "execution_count": null,
   "metadata": {
    "deletable": false,
    "nbgrader": {
     "grade": false,
     "grade_id": "l_decay",
     "locked": false,
     "solution": true
    }
   },
   "outputs": [],
   "source": [
    "##########\n",
    "### Q2 ###\n",
    "##########\n",
    "\n",
    "#Execute here: (keyword and output)\n",
    "print('Four times five equals', 4 * 5)"
   ]
  },
  {
   "cell_type": "markdown",
   "metadata": {},
   "source": [
    "You can input multiple lines into a code cell and execute them as a block.  The following cell contains a very short program that counts down from ten and then prints a message."
   ]
  },
  {
   "cell_type": "code",
   "execution_count": null,
   "metadata": {
    "deletable": false,
    "nbgrader": {
     "grade": false,
     "grade_id": "l_decay",
     "locked": false,
     "solution": true
    },
    "scrolled": true
   },
   "outputs": [],
   "source": [
    "##########\n",
    "### Q3 ###\n",
    "##########\n",
    "\n",
    "#Execute here: (for Loop)\n",
    "for counter in range(10,0,-1):\n",
    "    print(counter)\n",
    "print('Blast off!')"
   ]
  },
  {
   "cell_type": "markdown",
   "metadata": {},
   "source": [
    "Here are a couple more.  (Don't worry about the specifics of the code—in a few weeks you'll be able to come back and understand it perfectly.)"
   ]
  },
  {
   "cell_type": "code",
   "execution_count": null,
   "metadata": {
    "deletable": false,
    "nbgrader": {
     "grade": false,
     "grade_id": "l_decay",
     "locked": false,
     "solution": true
    }
   },
   "outputs": [],
   "source": [
    "##########\n",
    "### Q4 ###\n",
    "##########\n",
    "\n",
    "#Execute here: (string manipulation)\n",
    "# Punctate a sentence and transform its meaning.\n",
    "msg2 = 'Woman, without her man, is nothing'\n",
    "print(msg2.replace('n,','n').replace('r','r,').replace(' w',': W') + '\\n')\n",
    "\n",
    "# Transform a message with underscores and spaces.\n",
    "msg = 'Life is too short to remove a USB drive safely.'\n",
    "print(' '.join(msg.replace(' ','_')*2))\n"
   ]
  },
  {
   "cell_type": "code",
   "execution_count": null,
   "metadata": {
    "deletable": false,
    "nbgrader": {
     "grade": false,
     "grade_id": "l_decay",
     "locked": false,
     "solution": true
    }
   },
   "outputs": [],
   "source": [
    "##########\n",
    "### Q5 ###\n",
    "##########\n",
    "\n",
    "#Execute here: (for loop)\n",
    "# Find palindromic prime numbers from n = 2 to 7**5=16807.\n",
    "n = 1\n",
    "for x in range(n+1, 7**5):\n",
    "    if repr(x) == repr(x)[::-1] * all(x%i for i in range(2,x)):\n",
    "        print(x)"
   ]
  },
  {
   "cell_type": "markdown",
   "metadata": {},
   "source": [
    "Try double-clicking on this text (**right here**).  When you do so, the cell changes to a grey editable field.  This may happen occasionally by accident (or on purpose), but to view the regular text like in the rest of this lab, select inside this cell and press Ctrl+Enter."
   ]
  },
  {
   "cell_type": "markdown",
   "metadata": {},
   "source": [
    "The next pair of cells is a different animal—these are graded cells, which means that the first cell of the pair will contain the code you need to write (the *answer*), and the second cell contains the *test* or tests which your code needs to pass.\n",
    "\n",
    "Just go ahead and execute the answer cell to test it out.  The test cell will be given to you so that you can understand an assignment's expectations.  If you run a test cell, it will often fail unless you have already composed correct code, so don't worry about it until you are wrapping up an assignment."
   ]
  },
  {
   "cell_type": "code",
   "execution_count": null,
   "metadata": {
    "deletable": false,
    "nbgrader": {
     "grade": false,
     "grade_id": "l_decay",
     "locked": false,
     "solution": true
    }
   },
   "outputs": [],
   "source": [
    "##########\n",
    "### Q6 ###\n",
    "##########\n",
    "\n",
    "#Execute here: (string and output)\n",
    "message = \"Let me never fall into the vulgar mistake of dreaming that I am persecuted whenever I am contradicted. (Ralph Waldo Emerson)\"\n",
    "print(message)\n",
    "myAnswer = 8*8\n",
    "print(myAnswer)"
   ]
  },
  {
   "cell_type": "code",
   "execution_count": null,
   "metadata": {
    "deletable": false,
    "editable": false,
    "nbgrader": {
     "grade": false,
     "grade_id": "l_decay",
     "locked": false,
     "solution": true
    }
   },
   "outputs": [],
   "source": [
    "#Execute here: (test cell using function \"assert\")\n",
    "# This is a test cell.  You should not modify its contents in any way.\n",
    "\n",
    "#1st Assert\n",
    "assert len(message) == 124\n",
    "print('Success in getting the correct length for the sentence!'+'\\n')\n",
    "\n",
    "#2nd Assert\n",
    "assert myAnswer == 0\n",
    "print('Correct!')\n"
   ]
  },
  {
   "cell_type": "markdown",
   "metadata": {
    "nbgrader": {
     "grade": false,
     "locked": false,
     "solution": false
    }
   },
   "source": [
    "You will encounter an error **AssertionError** as handling the FALSE condition is not explicitly defined. Go back to change the value of myAnswer in the second **Assert** statement to make it TRUE to remove the error statement.\n",
    "\n",
    "\n",
    "The next pair requires you to make a small change.  You need to *uncomment* a single line of code—in this case, that just means selecting inside of the cell and deleting the `#` at the beginning of the line.  This makes the answer cell satisfies the test cell below it."
   ]
  },
  {
   "cell_type": "code",
   "execution_count": null,
   "metadata": {
    "deletable": false,
    "nbgrader": {
     "grade": false,
     "grade_id": "l_decay",
     "locked": false,
     "solution": true
    }
   },
   "outputs": [],
   "source": [
    "##########\n",
    "### Q7 ###\n",
    "##########\n",
    "\n",
    "#Execute here: (comment/uncomment to hide/activate code)\n",
    "e = 2.71828\n",
    "exponent = 5\n",
    "value = e ** exponent\n",
    "\n",
    "# value = value * 2\n"
   ]
  },
  {
   "cell_type": "code",
   "execution_count": null,
   "metadata": {
    "deletable": false,
    "editable": false,
    "nbgrader": {
     "grade": false,
     "grade_id": "l_decay",
     "locked": false,
     "solution": true
    }
   },
   "outputs": [],
   "source": [
    "#Execute here:\n",
    "# This is a test cell.  You should not modify its contents in any way.\n",
    "assert value == 2 * e ** exponent\n",
    "print('Success!')"
   ]
  },
  {
   "cell_type": "markdown",
   "metadata": {},
   "source": [
    "Try debugging the following statement which has the 2 wrong operators and 2 sets of missing brackets:\n",
    "\n",
    "assert 6 = 1 + 2 * 4 - 9 / 2 \n",
    "print('Success!')\n",
    "\n",
    "Do it below:"
   ]
  },
  {
   "cell_type": "code",
   "execution_count": null,
   "metadata": {
    "deletable": false,
    "nbgrader": {
     "grade": false,
     "grade_id": "l_decay",
     "locked": false,
     "solution": true
    }
   },
   "outputs": [],
   "source": [
    "##########\n",
    "### Q8 ###\n",
    "##########\n",
    "\n",
    "assert 6 = 1 + 2 * 4 - 9 / 2 \n",
    "print('Success!')"
   ]
  },
  {
   "cell_type": "markdown",
   "metadata": {},
   "source": [
    "### B) Access Python from a command line and Spyder."
   ]
  },
  {
   "cell_type": "markdown",
   "metadata": {},
   "source": [
    "### Command Prompt"
   ]
  },
  {
   "cell_type": "markdown",
   "metadata": {},
   "source": [
    "Okay, let's do something different that you may not have done before — the use of command line.\n",
    "\n",
    "-   From Anaconda, select *Anaconda Prompt*.  *(base) X:\\YYY\\>* is your present directory.\n",
    "\n",
    "<div class=\"alert alert-info\">\n",
    "You will often hear the terms *shell*, *terminal*, *prompt*, and *command line* used interchangeably for historic reasons.  The only point of confusion to be aware of is that the term *shell* can also refer to the Python interpreter.  However, the meaning should generally be clear from the context.\n",
    "</div>\n",
    "\n",
    "-   Type the word: python\n",
    "This will get you into a python environment where you can start to execute python commands.\n",
    "-   Type: 1 + 1 * 4 \n",
    "Do you get answer of \"5\"? Using this terminal, python can work like a calculator.\n",
    "-   Copy both lines in Q8 into the prompt\n",
    "Can you get it to print \"Success!\"? Why does it print \"Success!\" when the first line is wrong? \n",
    "What does this behavior tell you about how python works in the terminal? Please answer this last question below.\n",
    "\n",
    "-   Type: exit()\n",
    "This will end the python session and get you into the original prompt.\n"
   ]
  },
  {
   "cell_type": "markdown",
   "metadata": {},
   "source": [
    "##########\n",
    "\n",
    "'### Q9 ###\n",
    "##########\n",
    "\n",
    "What does this behavior tells you about how python works in command line?\n",
    "\n",
    "Answer:\n",
    "\n",
    "\n",
    "\n"
   ]
  },
  {
   "cell_type": "markdown",
   "metadata": {},
   "source": [
    "#### How to navigate the file system"
   ]
  },
  {
   "cell_type": "markdown",
   "metadata": {},
   "source": [
    "There are a few *ancient* commands that current Windows or any UI users may not be familiar with. Type the following commands (in `this color`) into the terminal (after you exited python), one at a time, and see what the output is:\n",
    "\n",
    "-   `pwd`(linux) or `chdir`/`cd`(Windows/DOS)— show the name of the directory you are currently working in\n",
    "-   `ls`(linux) or `dir`(Windows/DOS)— list the files and directories in the current directory\n",
    "-   `cd..`— change to a directory that is one-level higher\n",
    "\n",
    "Skip the commands below if you do not know how to do them. You will encounter them later in the course. \n",
    "-   `cd xxx`— change to a sub-directory with name xxx\n",
    "-   `md xxx`— make to a sub-directory with name xxx"
   ]
  },
  {
   "cell_type": "markdown",
   "metadata": {},
   "source": [
    "#### How to run a Python *script*"
   ]
  },
  {
   "cell_type": "markdown",
   "metadata": {},
   "source": [
    "There are three different ways to run Python code as a program.\n",
    "\n",
    "1.  One is what you have done in the above — as part of a **notebook** in separate cells.  In this case, any data or values that you have introduced are stored and operated on by the notebook server, called Jupyter.\n",
    "    \n",
    "    Although you can access the CS101 server and notebooks that you have created online throughout the semester, you may want to keep a copy of your completed lab assignments for future reference.  In that case, you should select *File→Download as→* and either *IPython Notebook  (.ipynb)* or *HTML (.html)*.  You can save a copy wherever you like on the local file system.\n",
    "\n",
    "    <div class=\"alert alert-info\">\n",
    "    Jupyter is a spin-off from IPython. IPython still exist but serves another purpose. Some people will say Ipython as an older name for Jupyter. You may hear this name mentioned occasionally by your TA or other programmers.\n",
    "    </div>\n",
    "\n",
    "2.  Another way is to feed your code line-by-line into a Python **interpreter**, which executes each line in turn and gives you the result of that piece of code.  This is what you have just done earlier and is an excellent way to explore data, for instance, or to test ideas once you are more familiar with Python. \n",
    "\n",
    "\n",
    "3.  Finally, you can save a block of code as a **script** in one file.  This is the most frequent way how Python is used, since it let you run computations and data analyses automatically (unlike how you do it in a notebook).\n",
    "    \n",
    "    For instance, we will consider a version of the countdown program that you have used above.  The code is basically identical, but instead of being in a notebook cell it is saved as a text file with the `.py` suffix.    \n",
    "    \n",
    "    1.  Open Spyder.\n",
    "    2.  Prepare your first python script and save as `rocket.py`. Inside, type：(REMOVE the \" sign)\n",
    "    <div style=\"background-color: #f7f7f9; border: 1px solid #e1e1e8;\"><code style=\"background-color: transparent;\">\"for counter in range(10,0,-1):\n",
    "\"   print(counter)\n",
    "\"print('Blast off')\n",
    "</code></div>\n",
    "    3.  Next, execute the script by pressing the GREEN > on the toolbar.\n",
    "        \n",
    "        You should see the same output at the command line as you previously saw from the code cell above. This example is not the best example to illustrate the power of using a script but you will come to appreciate it later in this course."
   ]
  },
  {
   "cell_type": "markdown",
   "metadata": {},
   "source": [
    "<div class=\"alert alert-info\">\n",
    "<p>You may hear the terms *Unix* and *Linux* being used interchangeably.  Unix properly refers to an operating system developed in 1972 at Bell Labs and its descendants and re-implementations (including Mac OS X).  Unix was widely successfully due to its locally minimalist, globally expansionist philosophy. This means Unix prefers small simple programs that carry out one task and do it extremely well, but contains a legion of such programs.</p>\n",
    "\n",
    "<p>Linux started in 1991 as an independent project.  Linux largely reimplements Unix's functionality but with an open source policy of providing the source code to everyone.  This openness has served it well in the computational science and scientific computing communities, which appreciate the ability to look inside programs and modify the algorithms.</p>\n",
    "</div>"
   ]
  },
  {
   "cell_type": "markdown",
   "metadata": {},
   "source": [
    "\n",
    "-----------------------------------------------------------------------------------------------------------------\n",
    "### C) CS101 Python Lab session logistics"
   ]
  },
  {
   "cell_type": "markdown",
   "metadata": {},
   "source": [
    "#### How to get help on your assignments"
   ]
  },
  {
   "cell_type": "markdown",
   "metadata": {},
   "source": [
    "Instructors are available during office hours for help.  Throughout the semester, we will occasionally refer you to Python tutorials and reference pages.  You may freely use the resources that we have introduced to you to finish your exercises (although you may not directly copy the code. More discussion on this in a moment).\n",
    "\n",
    "You should do your own work, but some amount of interaction with your peers is expected.  What is the appropriate amount of help to request (or offer)?\n",
    "\n",
    "Our philosophy in this course is based on the fact that (in real life) most of the time you have access to many resources:  websites, peers, mentors, books, and others' source code.  Your competence will be greatly increased by these resources.  We recognize that learning should be done in a realistic setting.  Hence, the official policy for CS101 is:\n",
    "\n",
    "<div class=\"alert alert-warning\">\n",
    "For lab exercises and homework, you are to work alone unless told otherwise. You may, however, consult external sources for information, understand the information, and implement the solution on your own (*i.e.*, write your own code and no copying). You have to cite all the sources used and indicate the contributions they made to your work.\n",
    "</div>\n",
    "\n",
    "This policy is designed to protect you against plagiarism without being *carte blanche* to skip doing the work yourself.\n",
    "\n",
    "What is plagiarism? The university defines it as:\n",
    "<blockquote>\n",
    "Plagiarism is using others' ideas and/or words without clearly acknowledging the source of that information. Students may plagiarize very deliberately (e.g., copying or purchasing papers from an online source), or they may not realize what they are doing, which is sometimes the case when students fail to give credit for ideas that they have paraphrased or summarized in their own words.<sup>[[Illinois2014]](http://engineering.illinois.edu/online/current-students/Policies/academic-integrity.html)</sup>\n",
    "</blockquote>\n",
    "\n",
    "What about using books or programming websites? Again, make sure that you don't copy the source code verbatim and that you cite the work and its contribution.\n",
    "\n",
    "No note on peer consultation is needed for team or pair exercises.  "
   ]
  },
  {
   "cell_type": "markdown",
   "metadata": {},
   "source": [
    "#### How to keep your work secure"
   ]
  },
  {
   "cell_type": "markdown",
   "metadata": {},
   "source": [
    "Your labs and homework assignments should be completed individually unless you are explicitly told to work in pairs. When you are done with your lab, you should always log out of the system completely.\n"
   ]
  },
  {
   "cell_type": "markdown",
   "metadata": {},
   "source": [
    "#### Attendance and grading policy"
   ]
  },
  {
   "cell_type": "markdown",
   "metadata": {},
   "source": [
    "Although they will gradually increase in difficulty, you should be able to complete the lab exercises in the 1h50min period allotted to you.  \n",
    "\n",
    "A corollary policy is that you should always attend your assigned lab section.  **Attendance and submission of your work will be graded on that basis. Failure to attend the proper section in which you are enrolled may lead to a zero grade for that lab.**  Any requests/exceptions must go through the Lab Instructor (Ong Wee Liat) for permission **before your assigned lab session**.\n",
    "\n",
    "When a student has a permitted absence for the lab, make-up labs will be arranged.  Please email the Instructor to arrange for the make-up. Failure to seek made-up arrangement will also result in a **zero grade**."
   ]
  },
  {
   "cell_type": "markdown",
   "metadata": {},
   "source": [
    "### Submission instructions for Lab#01"
   ]
  },
  {
   "cell_type": "markdown",
   "metadata": {},
   "source": [
    "<div class=\"alert alert-warning\">\n",
    "Save lab01.ipynb after you have completed this part and upload in the system for submission.\n",
    "</div>"
   ]
  }
 ],
 "metadata": {
  "anaconda-cloud": {},
  "celltoolbar": "Edit Metadata",
  "kernelspec": {
   "display_name": "Python 3",
   "language": "python",
   "name": "python3"
  },
  "language_info": {
   "codemirror_mode": {
    "name": "ipython",
    "version": 3
   },
   "file_extension": ".py",
   "mimetype": "text/x-python",
   "name": "python",
   "nbconvert_exporter": "python",
   "pygments_lexer": "ipython3",
   "version": "3.6.5"
  }
 },
 "nbformat": 4,
 "nbformat_minor": 1
}
